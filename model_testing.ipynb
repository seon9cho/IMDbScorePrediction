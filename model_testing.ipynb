{
 "cells": [
  {
   "cell_type": "code",
   "execution_count": 1,
   "metadata": {},
   "outputs": [],
   "source": [
    "import numpy as np\n",
    "from scipy.stats import norm\n",
    "\n",
    "from sklearn.ensemble import RandomForestRegressor as RFR\n",
    "from sklearn.neural_network import MLPRegressor as MLPR\n",
    "from sklearn.linear_model import LinearRegression as LR\n",
    "from sklearn.neighbors import KNeighborsRegressor as KNR\n",
    "\n",
    "from sklearn.model_selection import train_test_split\n",
    "from sklearn.model_selection import cross_validate"
   ]
  },
  {
   "cell_type": "code",
   "execution_count": 2,
   "metadata": {},
   "outputs": [],
   "source": [
    "import matplotlib.pyplot as plt"
   ]
  },
  {
   "cell_type": "markdown",
   "metadata": {},
   "source": [
    "# Initial Gathered data"
   ]
  },
  {
   "cell_type": "code",
   "execution_count": 3,
   "metadata": {},
   "outputs": [],
   "source": [
    "data = np.load(\"data1.npy\")\n",
    "np.random.shuffle(data)\n",
    "X = data[:, :-1]\n",
    "y = data[:, -1]\n",
    "X.shape, y.shape\n",
    "Z = np.hstack([X[:, 0:8], X[:, -6:]]) # Data without nominal features\n",
    "W = X[:, 8:-6] # Just nominal features"
   ]
  },
  {
   "cell_type": "markdown",
   "metadata": {},
   "source": [
    "### Linear Regression"
   ]
  },
  {
   "cell_type": "code",
   "execution_count": 5,
   "metadata": {},
   "outputs": [
    {
     "name": "stdout",
     "output_type": "stream",
     "text": [
      "[-0.04843867 -0.05147465 -0.05338436 -0.0525197  -0.05114465 -0.04779964\n",
      " -0.0505979 ]\n",
      "Average error: -0.050765651981586044\n"
     ]
    }
   ],
   "source": [
    "lr = LR()\n",
    "cv_results = cross_validate(lr, X, y, cv=7, scoring='neg_mean_absolute_error')\n",
    "print(cv_results['test_score'])\n",
    "print(\"Average error:\", np.mean(cv_results['test_score']))"
   ]
  },
  {
   "cell_type": "code",
   "execution_count": 124,
   "metadata": {},
   "outputs": [
    {
     "name": "stdout",
     "output_type": "stream",
     "text": [
      "[-0.05914805 -0.05358079 -0.05948209 -0.05569176 -0.05814874 -0.05645561\n",
      " -0.05900646]\n",
      "Average error: -0.057359069231220104\n"
     ]
    }
   ],
   "source": [
    "lr = LR()\n",
    "cv_results = cross_validate(lr, Z, y, cv=7, scoring='neg_mean_absolute_error')\n",
    "print(cv_results['test_score'])\n",
    "print(\"Average error:\", np.mean(cv_results['test_score']))"
   ]
  },
  {
   "cell_type": "markdown",
   "metadata": {},
   "source": [
    "### MLP"
   ]
  },
  {
   "cell_type": "code",
   "execution_count": 6,
   "metadata": {},
   "outputs": [
    {
     "name": "stdout",
     "output_type": "stream",
     "text": [
      "[-0.04900858 -0.05103336 -0.05539654 -0.05259797 -0.05219809 -0.04973941\n",
      " -0.05053577]\n",
      "Average error: -0.05150138812338042\n"
     ]
    }
   ],
   "source": [
    "mlp = MLPR([100, 200, 100], activation='logistic')\n",
    "cv_results = cross_validate(mlp, X, y, cv=7, scoring='neg_mean_absolute_error')\n",
    "print(cv_results['test_score'])\n",
    "print(\"Average error:\", np.mean(cv_results['test_score']))"
   ]
  },
  {
   "cell_type": "code",
   "execution_count": 126,
   "metadata": {},
   "outputs": [
    {
     "name": "stdout",
     "output_type": "stream",
     "text": [
      "[-0.06052447 -0.05438368 -0.06162408 -0.06239378 -0.06702681 -0.05591894\n",
      " -0.06419144]\n",
      "Average error: -0.06086617238912227\n"
     ]
    }
   ],
   "source": [
    "mlp = MLPR([100, 200, 100], activation='logistic')\n",
    "cv_results = cross_validate(mlp, Z, y, cv=7, scoring='neg_mean_absolute_error')\n",
    "print(cv_results['test_score'])\n",
    "print(\"Average error:\", np.mean(cv_results['test_score']))"
   ]
  },
  {
   "cell_type": "markdown",
   "metadata": {},
   "source": [
    "### Random Forest"
   ]
  },
  {
   "cell_type": "code",
   "execution_count": 61,
   "metadata": {},
   "outputs": [
    {
     "name": "stdout",
     "output_type": "stream",
     "text": [
      "[-0.04859459 -0.04791038 -0.04787409 -0.04673771 -0.04911457 -0.04906312\n",
      " -0.04611455]\n",
      "Average error: -0.04791557263249736\n"
     ]
    }
   ],
   "source": [
    "rf = RFR(n_estimators=1000, max_depth=30, max_features=\"sqrt\")\n",
    "cv_results = cross_validate(rf, X, y, cv=7, scoring='neg_mean_absolute_error')\n",
    "print(cv_results['test_score'])\n",
    "print(\"Average error:\", np.mean(cv_results['test_score']))"
   ]
  },
  {
   "cell_type": "code",
   "execution_count": 127,
   "metadata": {},
   "outputs": [
    {
     "name": "stdout",
     "output_type": "stream",
     "text": [
      "[-0.05315613 -0.0488518  -0.05177235 -0.05085102 -0.0507854  -0.04921602\n",
      " -0.05711803]\n",
      "Average error: -0.05167867756999857\n"
     ]
    }
   ],
   "source": [
    "rf = RFR(n_estimators=1000, max_depth=30, max_features=\"sqrt\")\n",
    "cv_results = cross_validate(rf, Z, y, cv=7, scoring='neg_mean_absolute_error')\n",
    "print(cv_results['test_score'])\n",
    "print(\"Average error:\", np.mean(cv_results['test_score']))"
   ]
  },
  {
   "cell_type": "markdown",
   "metadata": {},
   "source": [
    "### KNN"
   ]
  },
  {
   "cell_type": "code",
   "execution_count": 72,
   "metadata": {},
   "outputs": [
    {
     "name": "stdout",
     "output_type": "stream",
     "text": [
      "[-0.05656856 -0.0543181  -0.055      -0.05607313 -0.05739305 -0.05685531\n",
      " -0.05667216]\n",
      "Average error: -0.05612575802364258\n"
     ]
    }
   ],
   "source": [
    "knr = KNR(n_neighbors=10)\n",
    "cv_results = cross_validate(knr, X, y, cv=7, scoring='neg_mean_absolute_error')\n",
    "print(cv_results['test_score'])\n",
    "print(\"Average error:\", np.mean(cv_results['test_score']))"
   ]
  },
  {
   "cell_type": "markdown",
   "metadata": {},
   "source": [
    "# Further engineered data"
   ]
  },
  {
   "cell_type": "code",
   "execution_count": 370,
   "metadata": {},
   "outputs": [],
   "source": [
    "X, y = np.load(\"X_normalized.npy\"), np.load(\"y.npy\")\n",
    "Xy = np.hstack([X, y.reshape(-1, 1)])\n",
    "np.random.shuffle(Xy)\n",
    "X = Xy[:, :-1]\n",
    "y = Xy[:, -1]"
   ]
  },
  {
   "cell_type": "markdown",
   "metadata": {},
   "source": [
    "### Linear Regression"
   ]
  },
  {
   "cell_type": "code",
   "execution_count": 322,
   "metadata": {},
   "outputs": [
    {
     "name": "stdout",
     "output_type": "stream",
     "text": [
      "[-0.04842674 -0.05042793 -0.05013717 -0.04920444 -0.05263147 -0.05222402\n",
      " -0.05195048]\n",
      "Average error: -0.05071460749017986\n"
     ]
    }
   ],
   "source": [
    "lr = LR()\n",
    "cv_results = cross_validate(lr, X, y, cv=7, scoring='neg_mean_absolute_error')\n",
    "print(cv_results['test_score'])\n",
    "print(\"Average error:\", np.mean(cv_results['test_score']))"
   ]
  },
  {
   "cell_type": "markdown",
   "metadata": {},
   "source": [
    "### MLP"
   ]
  },
  {
   "cell_type": "code",
   "execution_count": 373,
   "metadata": {},
   "outputs": [
    {
     "name": "stdout",
     "output_type": "stream",
     "text": [
      "[-0.05532279 -0.05172455 -0.05496613 -0.05148859 -0.0529052  -0.05057765\n",
      " -0.05203554]\n",
      "Average error: -0.0527172064499352\n"
     ]
    }
   ],
   "source": [
    "mlp = MLPR([100, 200, 100], activation='logistic')\n",
    "cv_results = cross_validate(mlp, X, y, cv=7, scoring='neg_mean_absolute_error')\n",
    "print(cv_results['test_score'])\n",
    "print(\"Average error:\", np.mean(cv_results['test_score']))"
   ]
  },
  {
   "cell_type": "markdown",
   "metadata": {},
   "source": [
    "### Random Forest"
   ]
  },
  {
   "cell_type": "code",
   "execution_count": 82,
   "metadata": {},
   "outputs": [
    {
     "name": "stdout",
     "output_type": "stream",
     "text": [
      "[-0.04699509 -0.04865578 -0.0488202  -0.04648107 -0.04759942 -0.0502361\n",
      " -0.04704309]\n",
      "Average error: -0.04797582117451038\n"
     ]
    }
   ],
   "source": [
    "rf = RFR(n_estimators=1000, max_depth=30, max_features=\"sqrt\")\n",
    "cv_results = cross_validate(rf, X, y, cv=7, scoring='neg_mean_absolute_error')\n",
    "print(cv_results['test_score'])\n",
    "print(\"Average error:\", np.mean(cv_results['test_score']))"
   ]
  },
  {
   "cell_type": "markdown",
   "metadata": {},
   "source": [
    "# Engineered labels"
   ]
  },
  {
   "cell_type": "code",
   "execution_count": 4,
   "metadata": {},
   "outputs": [],
   "source": [
    "class IMDB_Labels:\n",
    "    def __init__(self, y, factor=1.6):\n",
    "        self.factor = factor\n",
    "        self.y = y\n",
    "        self.normal = y**factor\n",
    "        self.mean = np.mean(self.normal)\n",
    "        self.std = np.sqrt(np.var(self.normal))\n",
    "        self.uniform = norm.cdf(self.normal, \n",
    "                                loc=self.mean, \n",
    "                                scale=self.std)\n",
    "    \n",
    "    def revert(self, y):\n",
    "        normal = norm.ppf(y, loc=self.mean, scale=self.std)\n",
    "        return normal**(1/self.factor)"
   ]
  },
  {
   "cell_type": "code",
   "execution_count": 66,
   "metadata": {},
   "outputs": [],
   "source": [
    "X, y = np.load(\"X_normalized.npy\"), np.load(\"y.npy\")\n",
    "Xy = np.hstack([X, y.reshape(-1, 1)])\n",
    "np.random.shuffle(Xy)\n",
    "X = Xy[:, :-1]\n",
    "y = Xy[:, -1]\n",
    "labels = IMDB_Labels(y)"
   ]
  },
  {
   "cell_type": "code",
   "execution_count": 16,
   "metadata": {},
   "outputs": [],
   "source": [
    "X_train, X_test, y_train, y_test = train_test_split(X, labels.uniform, train_size=0.3)"
   ]
  },
  {
   "cell_type": "code",
   "execution_count": 60,
   "metadata": {},
   "outputs": [],
   "source": [
    "rf = RFR(n_estimators=1000, max_depth=30, max_features=\"sqrt\")\n",
    "rf.fit(X_train, y_train)\n",
    "y_pred = mlp.predict(X_test)"
   ]
  },
  {
   "cell_type": "code",
   "execution_count": 61,
   "metadata": {},
   "outputs": [],
   "source": [
    "y_pred[y_pred >= 1] = y_train.max()\n",
    "y_pred[y_pred <= 0] = y_train.min()"
   ]
  },
  {
   "cell_type": "code",
   "execution_count": 62,
   "metadata": {},
   "outputs": [],
   "source": [
    "y_pred_ = labels.revert(y_pred)"
   ]
  },
  {
   "cell_type": "code",
   "execution_count": 69,
   "metadata": {},
   "outputs": [
    {
     "data": {
      "text/plain": [
       "0.08186567612064759"
      ]
     },
     "execution_count": 69,
     "metadata": {},
     "output_type": "execute_result"
    }
   ],
   "source": [
    "abs(y.mean() - y).mean()"
   ]
  },
  {
   "cell_type": "code",
   "execution_count": 65,
   "metadata": {},
   "outputs": [
    {
     "data": {
      "text/plain": [
       "array([0.5 , 0.58, 0.76, 0.72, 0.59, 0.78, 0.57, 0.67, 0.74, 0.63, 0.55,\n",
       "       0.48, 0.67, 0.72, 0.7 , 0.52, 0.74, 0.7 , 0.71, 0.78, 0.49, 0.59,\n",
       "       0.78, 0.47, 0.54, 0.67, 0.79, 0.67, 0.65, 0.6 , 0.8 , 0.59, 0.67,\n",
       "       0.59, 0.58, 0.58, 0.65, 0.7 , 0.56, 0.5 , 0.81, 0.81, 0.7 , 0.57,\n",
       "       0.7 , 0.56, 0.64, 0.55, 0.33, 0.53])"
      ]
     },
     "execution_count": 65,
     "metadata": {},
     "output_type": "execute_result"
    }
   ],
   "source": [
    "labels.revert(y_test)[:50]"
   ]
  },
  {
   "cell_type": "markdown",
   "metadata": {},
   "source": [
    "# Unengineered"
   ]
  },
  {
   "cell_type": "code",
   "execution_count": 58,
   "metadata": {},
   "outputs": [],
   "source": [
    "data = np.load(\"NE_data.npy\")\n",
    "X = data[:, :-1]\n",
    "y = data[:, -1]"
   ]
  },
  {
   "cell_type": "code",
   "execution_count": 71,
   "metadata": {},
   "outputs": [
    {
     "name": "stdout",
     "output_type": "stream",
     "text": [
      "[-0.05357368 -0.05273522 -0.05154145 -0.04912436 -0.05048574 -0.05138884\n",
      " -0.04660321]\n",
      "Average error: -0.05077892795794896\n"
     ]
    }
   ],
   "source": [
    "lr = LR()\n",
    "cv_results = cross_validate(lr, X, y, cv=7, scoring='neg_mean_absolute_error')\n",
    "print(cv_results['test_score'])\n",
    "print(\"Average error:\", np.mean(cv_results['test_score']))"
   ]
  },
  {
   "cell_type": "code",
   "execution_count": 72,
   "metadata": {},
   "outputs": [
    {
     "name": "stdout",
     "output_type": "stream",
     "text": [
      "[-0.05381675 -0.05526925 -0.05233026 -0.05018833 -0.05046268 -0.0522355\n",
      " -0.04850822]\n",
      "Average error: -0.05183014323338837\n"
     ]
    }
   ],
   "source": [
    "mlp = MLPR([100, 200, 100], activation='logistic')\n",
    "cv_results = cross_validate(mlp, X, y, cv=7, scoring='neg_mean_absolute_error')\n",
    "print(cv_results['test_score'])\n",
    "print(\"Average error:\", np.mean(cv_results['test_score']))"
   ]
  },
  {
   "cell_type": "code",
   "execution_count": 73,
   "metadata": {},
   "outputs": [
    {
     "name": "stdout",
     "output_type": "stream",
     "text": [
      "[-0.04986848 -0.04936366 -0.04941054 -0.04529876 -0.04778694 -0.04869685\n",
      " -0.04505248]\n",
      "Average error: -0.04792538670781332\n"
     ]
    }
   ],
   "source": [
    "rf = RFR(n_estimators=1000, max_depth=30, max_features=\"sqrt\")\n",
    "cv_results = cross_validate(rf, X, y, cv=7, scoring='neg_mean_absolute_error')\n",
    "print(cv_results['test_score'])\n",
    "print(\"Average error:\", np.mean(cv_results['test_score']))"
   ]
  },
  {
   "cell_type": "code",
   "execution_count": 74,
   "metadata": {},
   "outputs": [
    {
     "name": "stdout",
     "output_type": "stream",
     "text": [
      "[-0.05991773 -0.058883   -0.057117   -0.05492322 -0.05807861 -0.05700916\n",
      " -0.05462454]\n",
      "Average error: -0.05722189441097771\n"
     ]
    }
   ],
   "source": [
    "knr = KNR(n_neighbors=10)\n",
    "cv_results = cross_validate(knr, X, y, cv=7, scoring='neg_mean_absolute_error')\n",
    "print(cv_results['test_score'])\n",
    "print(\"Average error:\", np.mean(cv_results['test_score']))"
   ]
  },
  {
   "cell_type": "code",
   "execution_count": null,
   "metadata": {},
   "outputs": [],
   "source": []
  },
  {
   "cell_type": "code",
   "execution_count": null,
   "metadata": {},
   "outputs": [],
   "source": []
  },
  {
   "cell_type": "code",
   "execution_count": 90,
   "metadata": {},
   "outputs": [],
   "source": [
    "data = np.load(\"NE_data.npy\")\n",
    "X = data[:, :-1]\n",
    "y = data[:, -1]"
   ]
  },
  {
   "cell_type": "code",
   "execution_count": 116,
   "metadata": {},
   "outputs": [],
   "source": [
    "Z = np.hstack([X[:, 0:8], X[:, -6:]])\n",
    "W = X[:, 8:-6]"
   ]
  },
  {
   "cell_type": "code",
   "execution_count": 112,
   "metadata": {},
   "outputs": [
    {
     "name": "stdout",
     "output_type": "stream",
     "text": [
      "[-0.06595784 -0.05368395 -0.0580389  -0.06521339 -0.06794026 -0.07148303\n",
      " -0.08448462]\n",
      "Average error: -0.06668599932055987\n"
     ]
    }
   ],
   "source": [
    "lr = LR()\n",
    "cv_results = cross_validate(lr, Z, y, cv=7, scoring='neg_mean_absolute_error')\n",
    "print(cv_results['test_score'])\n",
    "print(\"Average error:\", np.mean(cv_results['test_score']))"
   ]
  },
  {
   "cell_type": "code",
   "execution_count": 113,
   "metadata": {},
   "outputs": [
    {
     "name": "stdout",
     "output_type": "stream",
     "text": [
      "[-0.07856632 -0.07209986 -0.08150523 -0.08635458 -0.0882197  -0.08499739\n",
      " -0.09449917]\n",
      "Average error: -0.08374889355246573\n"
     ]
    }
   ],
   "source": [
    "mlp = MLPR([100, 200, 100], activation='logistic')\n",
    "cv_results = cross_validate(mlp, Z, y, cv=7, scoring='neg_mean_absolute_error')\n",
    "print(cv_results['test_score'])\n",
    "print(\"Average error:\", np.mean(cv_results['test_score']))"
   ]
  },
  {
   "cell_type": "code",
   "execution_count": 115,
   "metadata": {},
   "outputs": [
    {
     "name": "stdout",
     "output_type": "stream",
     "text": [
      "[-0.05366704 -0.04700653 -0.0466757  -0.05309454 -0.05419429 -0.05722049\n",
      " -0.06906141]\n",
      "Average error: -0.05441714267340979\n"
     ]
    }
   ],
   "source": [
    "rf = RFR(n_estimators=1000, max_depth=30, max_features=\"sqrt\")\n",
    "cv_results = cross_validate(rf, Z, y, cv=7, scoring='neg_mean_absolute_error')\n",
    "print(cv_results['test_score'])\n",
    "print(\"Average error:\", np.mean(cv_results['test_score']))"
   ]
  },
  {
   "cell_type": "code",
   "execution_count": 121,
   "metadata": {},
   "outputs": [
    {
     "name": "stdout",
     "output_type": "stream",
     "text": [
      "[-0.08232975 -0.06931456 -0.07610319 -0.08583467 -0.07693066 -0.08219183\n",
      " -0.08451673]\n",
      "Average error: -0.07960305682342253\n"
     ]
    }
   ],
   "source": [
    "mlp = MLPR([100, 200, 100], activation='logistic')\n",
    "cv_results = cross_validate(mlp, W, y, cv=7, scoring='neg_mean_absolute_error')\n",
    "print(cv_results['test_score'])\n",
    "print(\"Average error:\", np.mean(cv_results['test_score']))"
   ]
  },
  {
   "cell_type": "code",
   "execution_count": 122,
   "metadata": {},
   "outputs": [
    {
     "name": "stdout",
     "output_type": "stream",
     "text": [
      "[-0.08275721 -0.067161   -0.06886627 -0.07430232 -0.07961781 -0.07864753\n",
      " -0.08206886]\n",
      "Average error: -0.07620299929534814\n"
     ]
    }
   ],
   "source": [
    "rf = RFR(n_estimators=1000, max_depth=30, max_features=\"sqrt\")\n",
    "cv_results = cross_validate(rf, W, y, cv=7, scoring='neg_mean_absolute_error')\n",
    "print(cv_results['test_score'])\n",
    "print(\"Average error:\", np.mean(cv_results['test_score']))"
   ]
  },
  {
   "cell_type": "code",
   "execution_count": null,
   "metadata": {},
   "outputs": [],
   "source": []
  }
 ],
 "metadata": {
  "kernelspec": {
   "display_name": "Python 3",
   "language": "python",
   "name": "python3"
  },
  "language_info": {
   "codemirror_mode": {
    "name": "ipython",
    "version": 3
   },
   "file_extension": ".py",
   "mimetype": "text/x-python",
   "name": "python",
   "nbconvert_exporter": "python",
   "pygments_lexer": "ipython3",
   "version": "3.6.8"
  }
 },
 "nbformat": 4,
 "nbformat_minor": 2
}
